{
 "cells": [
  {
   "cell_type": "markdown",
   "metadata": {},
   "source": [
    "# Join Statements - Lab\n",
    "\n",
    "## Introduction\n",
    "\n",
    "In this lab, you'll practice your knowledge on Join statements.\n",
    "\n",
    "## Objectives\n",
    "\n",
    "You will be able to:\n",
    "- Write queries that make use of various types of Joins\n",
    "- Join tables using foreign keys"
   ]
  },
  {
   "cell_type": "markdown",
   "metadata": {},
   "source": [
    "## CRM Schema\n",
    "\n",
    "In almost all cases, rather then just working with a single table we will typically need data from multiple tables. \n",
    "Doing this requires the use of **joins ** using shared columns from the two tables. \n",
    "\n",
    "In this lab, we'll use the same Customer Relationship Management (CRM) database we used in our lecture before!\n",
    "<img src='Database-Schema.png' width=550>"
   ]
  },
  {
   "cell_type": "markdown",
   "metadata": {},
   "source": [
    "## Connecting to the Database\n",
    "Import the necessary packages and connect to the database **data.sqlite**."
   ]
  },
  {
   "cell_type": "code",
   "execution_count": 6,
   "metadata": {},
   "outputs": [],
   "source": [
    "#Your code here\n",
    "import pandas as pd\n",
    "import sqlite3\n",
    "connection = sqlite3.connect('data.sqlite')\n",
    "cursor = connection.cursor()"
   ]
  },
  {
   "cell_type": "markdown",
   "metadata": {},
   "source": [
    "## Display the names of all the employees in Boston."
   ]
  },
  {
   "cell_type": "code",
   "execution_count": 4,
   "metadata": {},
   "outputs": [
    {
     "data": {
      "text/plain": [
       "[('Diane', 'Murphy'),\n",
       " ('Mary', 'Patterson'),\n",
       " ('Jeff', 'Firrelli'),\n",
       " ('William', 'Patterson'),\n",
       " ('Gerard', 'Bondur'),\n",
       " ('Anthony', 'Bow'),\n",
       " ('Leslie', 'Jennings'),\n",
       " ('Leslie', 'Thompson'),\n",
       " ('Julie', 'Firrelli'),\n",
       " ('Steve', 'Patterson'),\n",
       " ('Foon Yue', 'Tseng'),\n",
       " ('George', 'Vanauf'),\n",
       " ('Loui', 'Bondur'),\n",
       " ('Gerard', 'Hernandez'),\n",
       " ('Pamela', 'Castillo'),\n",
       " ('Larry', 'Bott'),\n",
       " ('Barry', 'Jones'),\n",
       " ('Andy', 'Fixter'),\n",
       " ('Peter', 'Marsh'),\n",
       " ('Tom', 'King'),\n",
       " ('Mami', 'Nishi'),\n",
       " ('Yoshimi', 'Kato'),\n",
       " ('Martin', 'Gerard')]"
      ]
     },
     "execution_count": 4,
     "metadata": {},
     "output_type": "execute_result"
    }
   ],
   "source": [
    "#Your code here\n",
    "cursor.execute('''SELECT firstName, lastName FROM employees;''').fetchall()"
   ]
  },
  {
   "cell_type": "markdown",
   "metadata": {},
   "source": [
    "## Do any offices have no employees?"
   ]
  },
  {
   "cell_type": "code",
   "execution_count": 18,
   "metadata": {},
   "outputs": [
    {
     "data": {
      "text/html": [
       "<div>\n",
       "<style scoped>\n",
       "    .dataframe tbody tr th:only-of-type {\n",
       "        vertical-align: middle;\n",
       "    }\n",
       "\n",
       "    .dataframe tbody tr th {\n",
       "        vertical-align: top;\n",
       "    }\n",
       "\n",
       "    .dataframe thead th {\n",
       "        text-align: right;\n",
       "    }\n",
       "</style>\n",
       "<table border=\"1\" class=\"dataframe\">\n",
       "  <thead>\n",
       "    <tr style=\"text-align: right;\">\n",
       "      <th></th>\n",
       "      <th>employeeNumber</th>\n",
       "      <th>lastName</th>\n",
       "      <th>firstName</th>\n",
       "      <th>extension</th>\n",
       "      <th>email</th>\n",
       "      <th>officeCode</th>\n",
       "      <th>reportsTo</th>\n",
       "      <th>jobTitle</th>\n",
       "      <th>city</th>\n",
       "      <th>phone</th>\n",
       "      <th>addressLine1</th>\n",
       "      <th>addressLine2</th>\n",
       "      <th>state</th>\n",
       "      <th>country</th>\n",
       "      <th>postalCode</th>\n",
       "      <th>territory</th>\n",
       "    </tr>\n",
       "  </thead>\n",
       "  <tbody>\n",
       "  </tbody>\n",
       "</table>\n",
       "</div>"
      ],
      "text/plain": [
       "Empty DataFrame\n",
       "Columns: [employeeNumber, lastName, firstName, extension, email, officeCode, reportsTo, jobTitle, city, phone, addressLine1, addressLine2, state, country, postalCode, territory]\n",
       "Index: []"
      ]
     },
     "execution_count": 18,
     "metadata": {},
     "output_type": "execute_result"
    }
   ],
   "source": [
    "#Your code here\n",
    "cursor.execute(\"\"\"select * from employees\n",
    "                        left join offices\n",
    "                        using(officeCode);\n",
    "                       \"\"\")\n",
    "\n",
    "\n",
    "df = pd.DataFrame(cursor.fetchall()) \n",
    "df.columns = [i[0] for i in cursor.description]\n",
    "df.head()\n",
    "df[df.officeCode.isnull()]"
   ]
  },
  {
   "cell_type": "markdown",
   "metadata": {},
   "source": [
    "## Write 3 Questions of your own and answer them"
   ]
  },
  {
   "cell_type": "code",
   "execution_count": null,
   "metadata": {},
   "outputs": [],
   "source": [
    "# Answers will vary"
   ]
  },
  {
   "cell_type": "code",
   "execution_count": 24,
   "metadata": {},
   "outputs": [
    {
     "name": "stdout",
     "output_type": "stream",
     "text": [
      "8\n"
     ]
    }
   ],
   "source": [
    "# Your code here\n",
    "# How many employees did not provide customer service? (left join employees table w/ customers table on\n",
    "# employeeID = salesrepID)\n",
    "\n",
    "cursor.execute(\"\"\"select * from employees e\n",
    "                        left join customers c\n",
    "                        on e.employeeNumber = c.salesRepEmployeeNumber;\n",
    "                       \"\"\")\n",
    "\n",
    "\n",
    "df = pd.DataFrame(cursor.fetchall()) \n",
    "df.columns = [i[0] for i in cursor.description]\n",
    "df.head()\n",
    "print(len(df[df.salesRepEmployeeNumber.isnull()]))"
   ]
  },
  {
   "cell_type": "code",
   "execution_count": 23,
   "metadata": {},
   "outputs": [
    {
     "data": {
      "text/plain": [
       "[('1002', 'President'),\n",
       " ('1056', 'VP Sales'),\n",
       " ('1076', 'VP Marketing'),\n",
       " ('1088', 'Sales Manager (APAC)'),\n",
       " ('1102', 'Sale Manager (EMEA)'),\n",
       " ('1143', 'Sales Manager (NA)'),\n",
       " ('1165', 'Sales Rep'),\n",
       " ('1166', 'Sales Rep'),\n",
       " ('1188', 'Sales Rep'),\n",
       " ('1216', 'Sales Rep'),\n",
       " ('1286', 'Sales Rep'),\n",
       " ('1323', 'Sales Rep'),\n",
       " ('1337', 'Sales Rep'),\n",
       " ('1370', 'Sales Rep'),\n",
       " ('1401', 'Sales Rep'),\n",
       " ('1501', 'Sales Rep'),\n",
       " ('1504', 'Sales Rep'),\n",
       " ('1611', 'Sales Rep'),\n",
       " ('1612', 'Sales Rep'),\n",
       " ('1619', 'Sales Rep'),\n",
       " ('1621', 'Sales Rep'),\n",
       " ('1625', 'Sales Rep'),\n",
       " ('1702', 'Sales Rep')]"
      ]
     },
     "execution_count": 23,
     "metadata": {},
     "output_type": "execute_result"
    }
   ],
   "source": [
    "cursor.execute('''SELECT employeeNumber, jobTitle FROM employees;''').fetchall()"
   ]
  },
  {
   "cell_type": "code",
   "execution_count": 68,
   "metadata": {},
   "outputs": [
    {
     "data": {
      "text/plain": [
       "<matplotlib.axes._subplots.AxesSubplot at 0x7fb18c78ec88>"
      ]
     },
     "execution_count": 68,
     "metadata": {},
     "output_type": "execute_result"
    },
    {
     "data": {
      "image/png": "[encoded data removed]",
      "text/plain": [
       "<Figure size 432x288 with 1 Axes>"
      ]
     },
     "metadata": {
      "needs_background": "light"
     },
     "output_type": "display_data"
    }
   ],
   "source": [
    "# Your code here\n",
    "# Where are orders being shipped to (by country)?\n",
    "import collections\n",
    "cursor.execute(\"\"\"select * from orders o\n",
    "                        left join customers c\n",
    "                        on o.customerNumber = c.customerNumber;\n",
    "                       \"\"\")\n",
    "df = pd.DataFrame(cursor.fetchall()) \n",
    "df.columns = [i[0] for i in cursor.description]\n",
    "country_list = df.country.tolist()\n",
    "country_list\n",
    "count_of_countries = collections.Counter(country_list)\n",
    "count_of_countries = sorted(((v,k) for (k,v) in count_of_countries.items()), reverse = True)\n",
    "count_of_countries\n",
    "df_country = pd.DataFrame(count_of_countries)\n",
    "df_country.columns = [\"num_orders\", \"country\"]\n",
    "df_country.head()\n",
    "df_country.set_index('country', inplace =True)\n",
    "df_country.plot(kind = 'bar')"
   ]
  },
  {
   "cell_type": "code",
   "execution_count": 87,
   "metadata": {},
   "outputs": [
    {
     "data": {
      "text/plain": [
       "<matplotlib.axes._subplots.AxesSubplot at 0x7fb186e338d0>"
      ]
     },
     "execution_count": 87,
     "metadata": {},
     "output_type": "execute_result"
    },
    {
     "data": {
      "image/png": "[encoded data removed]",
      "text/plain": [
       "<Figure size 432x288 with 1 Axes>"
      ]
     },
     "metadata": {
      "needs_background": "light"
     },
     "output_type": "display_data"
    }
   ],
   "source": [
    "# Your code here\n",
    "# Most popular products being sold\n",
    "\n",
    "cursor.execute(\"\"\"select productName, count(productName), productLine, productDescription, quantityInStock from orderdetails o\n",
    "                        left join products p\n",
    "                        on o.productCode = p.productCode GROUP BY productName ORDER BY count(productName) DESC;\n",
    "                       \"\"\")\n",
    "df = pd.DataFrame(cursor.fetchall()) \n",
    "df.columns = [i[0] for i in cursor.description]\n",
    "df.head()\n",
    "df_graph = df[['productName', 'count(productName)', 'quantityInStock']]\n",
    "df_graph = df_graph.set_index('productName')\n",
    "df_graph.head(20).plot(kind='bar')\n"
   ]
  },
  {
   "cell_type": "markdown",
   "metadata": {},
   "source": [
    "## Level Up: Display the names of each product each employee has sold."
   ]
  },
  {
   "cell_type": "code",
   "execution_count": null,
   "metadata": {},
   "outputs": [],
   "source": [
    "# Your code here\n",
    "cursor.execute('''SELECT * FROM employees\n",
    "                        INNER JOIN customers\n",
    "                            on employees.employeeNumber = customers.salesRepEmployeeNumber\n",
    "                        ''')"
   ]
  },
  {
   "cell_type": "markdown",
   "metadata": {},
   "source": [
    "## Level Up: Display the Number of Products each Employee Has sold"
   ]
  },
  {
   "cell_type": "code",
   "execution_count": null,
   "metadata": {},
   "outputs": [],
   "source": [
    "#Your code here"
   ]
  },
  {
   "cell_type": "markdown",
   "metadata": {},
   "source": [
    "## Summary"
   ]
  },
  {
   "cell_type": "markdown",
   "metadata": {},
   "source": [
    "Congrats! You now know how to use Join statements, along with leveraging your foreign keys knowledge!"
   ]
  }
 ],
 "metadata": {
  "kernelspec": {
   "display_name": "Python 3",
   "language": "python",
   "name": "python3"
  },
  "language_info": {
   "codemirror_mode": {
    "name": "ipython",
    "version": 3
   },
   "file_extension": ".py",
   "mimetype": "text/x-python",
   "name": "python",
   "nbconvert_exporter": "python",
   "pygments_lexer": "ipython3",
   "version": "3.6.6"
  }
 },
 "nbformat": 4,
 "nbformat_minor": 2
}
